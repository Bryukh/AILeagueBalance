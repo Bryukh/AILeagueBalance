{
 "cells": [
  {
   "cell_type": "code",
   "execution_count": 35,
   "id": "c183dab6",
   "metadata": {},
   "outputs": [],
   "source": [
    "import json\n",
    "# !pip install ipywidgets\n",
    "# !pip install ipysheet"
   ]
  },
  {
   "cell_type": "code",
   "execution_count": 36,
   "id": "8cb98f29",
   "metadata": {},
   "outputs": [],
   "source": [
    "with open(\"data/GiantsGatesUnitsParams.json\") as datafile:\n",
    "    data = json.load(datafile)\n",
    "\n",
    "for k in data.keys():\n",
    "    data[k][\"type\"] = k"
   ]
  },
  {
   "cell_type": "code",
   "execution_count": 37,
   "id": "265b3d0a",
   "metadata": {},
   "outputs": [
    {
     "data": {
      "application/vnd.jupyter.widget-view+json": {
       "model_id": "c1d684f25c404fc1bc02e775ffa58292",
       "version_major": 2,
       "version_minor": 0
      },
      "text/plain": [
       "Sheet(cells=(Cell(column_end=5, column_start=0, row_end=0, row_start=0, squeeze_column=False, type='numeric', …"
      ]
     },
     "metadata": {},
     "output_type": "display_data"
    }
   ],
   "source": [
    "import ipysheet as sheet\n",
    "\n",
    "param_names = [\n",
    "    'cost',\n",
    "    'maxSpeed',\n",
    "    'maxHealth',\n",
    "    'attackDamage',\n",
    "    'attackCooldown',\n",
    "    'attackRange']\n",
    "unit_names = list(data.keys())\n",
    "unit_sheet = sheet.sheet(columns=len(param_names), rows=len(unit_names), row_headers=unit_names, column_headers=param_names)\n",
    "for i, name in enumerate(unit_names):\n",
    "    sheet.row(i, [data[name][p] for p in param_names])\n",
    "unit_sheet"
   ]
  },
  {
   "cell_type": "code",
   "execution_count": null,
   "id": "c861c12d",
   "metadata": {},
   "outputs": [],
   "source": []
  }
 ],
 "metadata": {
  "kernelspec": {
   "display_name": "Python 3",
   "language": "python",
   "name": "python3"
  },
  "language_info": {
   "codemirror_mode": {
    "name": "ipython",
    "version": 3
   },
   "file_extension": ".py",
   "mimetype": "text/x-python",
   "name": "python",
   "nbconvert_exporter": "python",
   "pygments_lexer": "ipython3",
   "version": "3.8.8"
  }
 },
 "nbformat": 4,
 "nbformat_minor": 5
}
