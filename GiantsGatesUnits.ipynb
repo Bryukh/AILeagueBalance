{
 "cells": [
  {
   "cell_type": "code",
   "execution_count": 65,
   "id": "c183dab6",
   "metadata": {},
   "outputs": [],
   "source": [
    "import json\n",
    "import ipysheet as sheet\n",
    "# !pip install ipywidgets\n",
    "# !pip install ipysheet"
   ]
  },
  {
   "cell_type": "code",
   "execution_count": 155,
   "id": "7f23a34c",
   "metadata": {},
   "outputs": [],
   "source": [
    "def get_team_hp(team, units):\n",
    "    return sum(u['hp'] for u in units if u['team'] == team)\n",
    "\n",
    "def get_distance(u1, u2):\n",
    "    return abs(u1['x'] - u2['x'])\n",
    "\n",
    "def find_nearest_enemy(me, units):\n",
    "    md, nearest = 9001, None\n",
    "    for u in units:\n",
    "        if u['hp'] <= 0 or u['team'] == me['team']:\n",
    "            continue\n",
    "        dx = get_distance(me, u)\n",
    "        if dx < md:\n",
    "            dx = md\n",
    "            nearest = u\n",
    "    return nearest\n",
    "\n",
    "def battle(team1, team2, px1, px2, dt=0.1, logging=False):\n",
    "    units = []\n",
    "    for i, px, team in [[0, px1, team1], [1, px2, team2]]:\n",
    "        for x, unit_params in zip(px, team):\n",
    "            u = {k:v for k, v in unit_params.items()}\n",
    "            u['hp'] = u['maxHealth']\n",
    "            u['team'] = i\n",
    "            u['ready'] = 0\n",
    "            u['x'] = x\n",
    "            units.append(u)\n",
    "    time = 0\n",
    "    for _ in range(900):\n",
    "        if get_team_hp(0, units) <= 0 or get_team_hp(1, units) <= 0:\n",
    "            break\n",
    "        for un in units:\n",
    "            if un['hp'] <= 0 or un['ready'] > time:\n",
    "                continue\n",
    "            enemy = find_nearest_enemy(un, units)\n",
    "            if not enemy:\n",
    "                continue\n",
    "            if get_distance(un, enemy) <= un['attackRange']:\n",
    "                if logging:\n",
    "                    print(f'T{time:0.1f}: {un[\"type\"]} team {un[\"team\"]} hits {enemy[\"type\"]} for {un[\"attackDamage\"]}')\n",
    "                enemy['hp'] -= un['attackDamage']\n",
    "                un['ready'] = time + un['attackCooldown']\n",
    "            else:\n",
    "                x = un['x']\n",
    "                un['x'] = x + [1, -1][un['team']] * (un['maxSpeed'] * dt)\n",
    "                if logging:\n",
    "                    print(f'T{time:0.1f}: {un[\"type\"]} team {un[\"team\"]} moves from {x} to {un[\"x\"]}')\n",
    "\n",
    "        time += dt\n",
    "    return time, units"
   ]
  },
  {
   "cell_type": "code",
   "execution_count": 134,
   "id": "8cb98f29",
   "metadata": {},
   "outputs": [
    {
     "data": {
      "application/vnd.jupyter.widget-view+json": {
       "model_id": "401c1b7b092f438babc2995cdbfe0b5d",
       "version_major": 2,
       "version_minor": 0
      },
      "text/plain": [
       "Sheet(cells=(Cell(column_end=5, column_start=0, row_end=0, row_start=0, squeeze_column=False, type='numeric', …"
      ]
     },
     "metadata": {},
     "output_type": "display_data"
    }
   ],
   "source": [
    "with open(\"data/GiantsGatesUnitsParams.json\") as datafile:\n",
    "    data = json.load(datafile)\n",
    "\n",
    "for k in data.keys():\n",
    "    data[k][\"type\"] = k\n",
    "\n",
    "param_names = [\n",
    "    'cost',\n",
    "    'maxSpeed',\n",
    "    'maxHealth',\n",
    "    'attackDamage',\n",
    "    'attackCooldown',\n",
    "    'attackRange']\n",
    "unit_names = list(data.keys())\n",
    "unit_sheet = sheet.sheet(\n",
    "    columns=len(param_names),\n",
    "    rows=len(unit_names),\n",
    "    row_headers=unit_names,\n",
    "    column_headers=param_names,\n",
    "    numeric_format='0')\n",
    "work_params = {}\n",
    "for i, name in enumerate(unit_names):\n",
    "    work_params[name] = sheet.row(i, [data[name][p] for p in param_names])\n",
    "\n",
    "def get_unit_data(unit_type):\n",
    "    res = {'type': unit_type}\n",
    "    for i, p in enumerate(param_names):\n",
    "        res[p] = work_params[unit_type].value[i]\n",
    "    return res\n",
    "\n",
    "unit_sheet"
   ]
  },
  {
   "cell_type": "code",
   "execution_count": 158,
   "id": "8169d01e",
   "metadata": {},
   "outputs": [
    {
     "name": "stdout",
     "output_type": "stream",
     "text": [
      "Time: 5.699999999999996\n",
      "munchkin from team 0 health is 0\n",
      "munchkin from team 1 health is 10\n"
     ]
    }
   ],
   "source": [
    "munchkin = get_unit_data('munchkin')\n",
    "thrower = get_unit_data('thrower')\n",
    "ogre = get_unit_data('ogre')\n",
    "shaman = get_unit_data('shaman')\n",
    "brawler = get_unit_data('brawler')\n",
    "warlock = get_unit_data('warlock')\n",
    "headhunter = get_unit_data('headhunter')\n",
    "\n",
    "t, result = battle([munchkin], [munchkin], [0], [20], logging=False)\n",
    "\n",
    "print(f'Time: {t}')\n",
    "for un in result:\n",
    "    print(f'{un[\"type\"]} from team {un[\"team\"]} health is {un[\"hp\"]}')"
   ]
  },
  {
   "cell_type": "code",
   "execution_count": null,
   "id": "138f9a1c",
   "metadata": {},
   "outputs": [],
   "source": []
  }
 ],
 "metadata": {
  "kernelspec": {
   "display_name": "Python 3",
   "language": "python",
   "name": "python3"
  },
  "language_info": {
   "codemirror_mode": {
    "name": "ipython",
    "version": 3
   },
   "file_extension": ".py",
   "mimetype": "text/x-python",
   "name": "python",
   "nbconvert_exporter": "python",
   "pygments_lexer": "ipython3",
   "version": "3.8.8"
  }
 },
 "nbformat": 4,
 "nbformat_minor": 5
}
