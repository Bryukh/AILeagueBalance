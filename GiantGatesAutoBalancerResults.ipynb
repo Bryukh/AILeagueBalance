{
 "cells": [
  {
   "cell_type": "code",
   "execution_count": 110,
   "id": "bbbbfbb2",
   "metadata": {},
   "outputs": [],
   "source": [
    "import pandas as pd\n",
    "import seaborn as sns\n",
    "import matplotlib.pyplot as plt"
   ]
  },
  {
   "cell_type": "code",
   "execution_count": 121,
   "id": "f4039c4e",
   "metadata": {},
   "outputs": [],
   "source": [
    "def take_and_clean(filename, keyword, print_info=False):\n",
    "    raw = pd.read_json(f'./data/{filename}.json')\n",
    "    ranks = raw[['creatorName', 'totalScore']]\n",
    "    ranks = ranks[ranks['creatorName'].str.contains(keyword)]\n",
    "    ranks = ranks[ranks['creatorName'].str.contains('GG')]\n",
    "    if print_info:\n",
    "        ranks.info()\n",
    "    return ranks\n"
   ]
  },
  {
   "cell_type": "code",
   "execution_count": 123,
   "id": "601b65eb",
   "metadata": {},
   "outputs": [],
   "source": [
    "NAMES = ['MUN', 'THR', 'OGR', 'SHM', 'BRW', 'WRL']\n",
    "\n",
    "def collect_scores(ranks):\n",
    "    by_units = []\n",
    "    for name in NAMES:\n",
    "        units = ranks[ranks['creatorName'].str.contains(name)]['totalScore'] * 100\n",
    "        units.reset_index(drop=True, inplace=True)\n",
    "        by_units.append(units)\n",
    "\n",
    "    unit_scores = pd.concat(by_units,\n",
    "        ignore_index=True, axis=1)\n",
    "    unit_scores.columns = NAMES\n",
    "    return unit_scores\n",
    "\n",
    "def print_score_data(unit_scores):\n",
    "    result = []\n",
    "    for name in NAMES:\n",
    "        units = unit_scores[name]\n",
    "        result.append([name, units.mean(), units.median()])\n",
    "\n",
    "    result.sort(key=lambda x: x[1], reverse=True)\n",
    "    print('NAME - MEAN  -- MED')\n",
    "    for line in result:\n",
    "        print(f'{line[0]} -- {line[1]: <5.2f} -- {line[2]:.2f}')\n",
    "\n",
    "def boxplot_score(unit_scores):\n",
    "    sns.set_theme(style=\"whitegrid\")\n",
    "    plt.figure(figsize=(16, 6))\n",
    "    sns.boxplot(data=unit_scores)"
   ]
  },
  {
   "cell_type": "code",
   "execution_count": 124,
   "id": "88b25d0c",
   "metadata": {},
   "outputs": [
    {
     "name": "stdout",
     "output_type": "stream",
     "text": [
      "NAME - MEAN  -- MED\n",
      "WRL -- 2494.59 -- 2480.29\n",
      "SHM -- 1364.82 -- 1203.23\n",
      "THR -- 793.56 -- 789.42\n",
      "BRW -- 567.39 -- 620.46\n",
      "MUN -- 374.26 -- 516.49\n",
      "OGR -- 10.07 -- -37.20\n"
     ]
    },
    {
     "data": {
      "image/png": "[encoded data removed]",
      "text/plain": [
       "<Figure size 1152x432 with 1 Axes>"
      ]
     },
     "metadata": {},
     "output_type": "display_data"
    }
   ],
   "source": [
    "# Version 0.8.23\n",
    "# team by 3\n",
    "# C point without assault\n",
    "front_team3_v0 = take_and_clean('rankingsC', '-C-', False)\n",
    "front_team3_v0_scores = collect_scores(front_team3_v0)\n",
    "print_score_data(front_team3_v0_scores)\n",
    "boxplot_score(front_team3_v0_scores)"
   ]
  }
 ],
 "metadata": {
  "kernelspec": {
   "display_name": "Python 3",
   "language": "python",
   "name": "python3"
  },
  "language_info": {
   "codemirror_mode": {
    "name": "ipython",
    "version": 3
   },
   "file_extension": ".py",
   "mimetype": "text/x-python",
   "name": "python",
   "nbconvert_exporter": "python",
   "pygments_lexer": "ipython3",
   "version": "3.8.8"
  }
 },
 "nbformat": 4,
 "nbformat_minor": 5
}
