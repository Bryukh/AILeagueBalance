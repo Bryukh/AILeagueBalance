{
 "cells": [
  {
   "cell_type": "code",
   "execution_count": 1,
   "metadata": {
    "collapsed": true
   },
   "outputs": [],
   "source": [
    "import pandas as pd\n",
    "import seaborn as sns\n",
    "import matplotlib.pyplot as plt"
   ]
  },
  {
   "cell_type": "code",
   "execution_count": 2,
   "outputs": [],
   "source": [
    "def take_and_clean(filename, keyword, print_info=False):\n",
    "    raw = pd.read_json(f'./data/colossusClash/{filename}.json')\n",
    "    ranks = raw[['creatorName', 'totalScore']]\n",
    "    ranks = ranks[ranks['creatorName'].str.contains(keyword)]\n",
    "    ranks = ranks[ranks['creatorName'].str.contains('C-')]\n",
    "    if print_info:\n",
    "        ranks.info()\n",
    "    return ranks"
   ],
   "metadata": {
    "collapsed": false,
    "pycharm": {
     "name": "#%%\n"
    }
   }
  },
  {
   "cell_type": "code",
   "execution_count": 8,
   "outputs": [],
   "source": [
    "UNITS = ['MUN', 'THR', 'OGR', 'SHM', 'BRW', 'WRL']\n",
    "COLOSSUSES = ['CRO', 'TAL', 'HYP', 'ATL']\n",
    "TACTICS = ['SIMPL', 'SPEC']\n",
    "\n",
    "def collect_scores(ranks, main_names, addends=None):\n",
    "    results = []\n",
    "    column_names = []\n",
    "    for name in main_names:\n",
    "        if addends:\n",
    "            for add in addends:\n",
    "                lines = ranks[ranks['creatorName'].str.contains(name) & ranks['creatorName'].str.contains(add)]['totalScore'] * 100\n",
    "                lines.reset_index(drop=True, inplace=True)\n",
    "                results.append(lines)\n",
    "                column_names.append(f'{name}-{add}')\n",
    "        else:\n",
    "            lines = ranks[ranks['creatorName'].str.contains(name)]['totalScore'] * 100\n",
    "            lines.reset_index(drop=True, inplace=True)\n",
    "            results.append(lines)\n",
    "            column_names.append(name)\n",
    "\n",
    "    unit_scores = pd.concat(results, ignore_index=True, axis=1)\n",
    "    unit_scores.columns = column_names\n",
    "    return unit_scores\n",
    "\n",
    "\n",
    "def print_score_data(unit_scores):\n",
    "    result = []\n",
    "    for name in unit_scores.columns:\n",
    "        units = unit_scores[name]\n",
    "        result.append([name, units.mean(), units.median()])\n",
    "\n",
    "    result.sort(key=lambda x: x[1], reverse=True)\n",
    "    print('NAME -- MEAN   --   MED')\n",
    "    for line in result:\n",
    "        print(f'{line[0]} -- {line[1]: <7.2f} -- {line[2]:.2f}')\n",
    "\n",
    "def boxplot_score(scores, vert_size=6):\n",
    "    sns.set_theme(style=\"whitegrid\")\n",
    "    plt.figure(figsize=(16, vert_size))\n",
    "    sns.boxplot(data=scores)"
   ],
   "metadata": {
    "collapsed": false,
    "pycharm": {
     "name": "#%%\n"
    }
   }
  },
  {
   "cell_type": "code",
   "execution_count": 11,
   "outputs": [
    {
     "name": "stdout",
     "output_type": "stream",
     "text": [
      "NAME -- MEAN   --   MED\n",
      "CRO-SIMPL -- 3183.14 -- 3322.99\n",
      "CRO-SPEC -- 2862.74 -- 2922.21\n",
      "TAL-SPEC -- 2097.94 -- 2283.27\n",
      "HYP-SPEC -- 2016.69 -- 2350.27\n",
      "HYP-SIMPL -- 1966.63 -- 2482.63\n",
      "TAL-SIMPL -- 1893.86 -- 2198.22\n",
      "ATL-SPEC -- 1262.04 -- 1409.34\n",
      "ATL-SIMPL -- 959.18  -- 1156.52\n"
     ]
    },
    {
     "data": {
      "text/plain": "<Figure size 1152x432 with 1 Axes>",
      "image/png": "[encoded data removed]"
     },
     "metadata": {},
     "output_type": "display_data"
    }
   ],
   "source": [
    "ranks = take_and_clean('rankings1101A', '1101A')\n",
    "colossus_tactic = collect_scores(ranks, COLOSSUSES, TACTICS)\n",
    "print_score_data(colossus_tactic)\n",
    "boxplot_score(colossus_tactic)"
   ],
   "metadata": {
    "collapsed": false,
    "pycharm": {
     "name": "#%%\n"
    }
   }
  }
 ],
 "metadata": {
  "kernelspec": {
   "display_name": "Python 3",
   "language": "python",
   "name": "python3"
  },
  "language_info": {
   "codemirror_mode": {
    "name": "ipython",
    "version": 2
   },
   "file_extension": ".py",
   "mimetype": "text/x-python",
   "name": "python",
   "nbconvert_exporter": "python",
   "pygments_lexer": "ipython2",
   "version": "2.7.6"
  }
 },
 "nbformat": 4,
 "nbformat_minor": 0
}